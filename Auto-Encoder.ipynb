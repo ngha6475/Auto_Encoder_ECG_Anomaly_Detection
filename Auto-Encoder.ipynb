{
 "cells": [
  {
   "cell_type": "code",
   "execution_count": 1,
   "metadata": {
    "ExecuteTime": {
     "end_time": "2022-06-18T00:51:34.979310Z",
     "start_time": "2022-06-18T00:51:28.695824Z"
    },
    "executionInfo": {
     "elapsed": 5407,
     "status": "ok",
     "timestamp": 1654236299994,
     "user": {
      "displayName": "James Lee",
      "userId": "17665317456088603930"
     },
     "user_tz": -540
    },
    "id": "P_xivVZ9OrSH"
   },
   "outputs": [],
   "source": [
    "import numpy as np\n",
    "import pandas as pd\n",
    "from tensorflow import keras\n",
    "from tensorflow.keras import layers\n",
    "from matplotlib import pyplot as plt\n",
    "from datetime import datetime, timedelta"
   ]
  },
  {
   "cell_type": "code",
   "execution_count": 2,
   "metadata": {
    "ExecuteTime": {
     "end_time": "2022-06-11T03:18:00.614129Z",
     "start_time": "2022-06-11T03:18:00.611137Z"
    },
    "colab": {
     "base_uri": "https://localhost:8080/"
    },
    "executionInfo": {
     "elapsed": 28032,
     "status": "ok",
     "timestamp": 1654236346356,
     "user": {
      "displayName": "James Lee",
      "userId": "17665317456088603930"
     },
     "user_tz": -540
    },
    "id": "T--JyhSTFeTP",
    "outputId": "24055f82-6319-4710-f26d-4aec03dbc1be"
   },
   "outputs": [],
   "source": [
    "#from google.colab import drive\n",
    "#drive.mount('/content/drive')\n"
   ]
  },
  {
   "cell_type": "code",
   "execution_count": 2,
   "metadata": {
    "ExecuteTime": {
     "end_time": "2022-06-18T00:51:37.334677Z",
     "start_time": "2022-06-18T00:51:37.307750Z"
    },
    "executionInfo": {
     "elapsed": 677,
     "status": "ok",
     "timestamp": 1654236354762,
     "user": {
      "displayName": "James Lee",
      "userId": "17665317456088603930"
     },
     "user_tz": -540
    },
    "id": "Ly1-Xfa6Fvev"
   },
   "outputs": [],
   "source": [
    "cpu_load_df = pd.read_csv(\n",
    "    \"C:\\\\Jupyter_Workspace\\\\spoons\\\\5_week\\\\cpu_load.csv\",\n",
    "    parse_dates=True,\n",
    "    index_col='timestamp'\n",
    "    )"
   ]
  },
  {
   "cell_type": "code",
   "execution_count": 3,
   "metadata": {
    "ExecuteTime": {
     "end_time": "2022-06-18T00:51:40.774499Z",
     "start_time": "2022-06-18T00:51:40.744588Z"
    },
    "colab": {
     "base_uri": "https://localhost:8080/",
     "height": 455
    },
    "executionInfo": {
     "elapsed": 306,
     "status": "ok",
     "timestamp": 1654236383846,
     "user": {
      "displayName": "James Lee",
      "userId": "17665317456088603930"
     },
     "user_tz": -540
    },
    "id": "XYux8ZZVZ-qN",
    "outputId": "968a701b-308f-4b66-ac29-6565c9634138"
   },
   "outputs": [
    {
     "data": {
      "text/html": [
       "<div>\n",
       "<style scoped>\n",
       "    .dataframe tbody tr th:only-of-type {\n",
       "        vertical-align: middle;\n",
       "    }\n",
       "\n",
       "    .dataframe tbody tr th {\n",
       "        vertical-align: top;\n",
       "    }\n",
       "\n",
       "    .dataframe thead th {\n",
       "        text-align: right;\n",
       "    }\n",
       "</style>\n",
       "<table border=\"1\" class=\"dataframe\">\n",
       "  <thead>\n",
       "    <tr style=\"text-align: right;\">\n",
       "      <th></th>\n",
       "      <th>value</th>\n",
       "    </tr>\n",
       "    <tr>\n",
       "      <th>timestamp</th>\n",
       "      <th></th>\n",
       "    </tr>\n",
       "  </thead>\n",
       "  <tbody>\n",
       "    <tr>\n",
       "      <th>2014-04-01 00:00:00</th>\n",
       "      <td>19.761252</td>\n",
       "    </tr>\n",
       "    <tr>\n",
       "      <th>2014-04-01 00:05:00</th>\n",
       "      <td>20.500833</td>\n",
       "    </tr>\n",
       "    <tr>\n",
       "      <th>2014-04-01 00:10:00</th>\n",
       "      <td>19.961641</td>\n",
       "    </tr>\n",
       "    <tr>\n",
       "      <th>2014-04-01 00:15:00</th>\n",
       "      <td>21.490266</td>\n",
       "    </tr>\n",
       "    <tr>\n",
       "      <th>2014-04-01 00:20:00</th>\n",
       "      <td>20.187739</td>\n",
       "    </tr>\n",
       "    <tr>\n",
       "      <th>...</th>\n",
       "      <td>...</td>\n",
       "    </tr>\n",
       "    <tr>\n",
       "      <th>2014-04-14 23:35:00</th>\n",
       "      <td>18.074649</td>\n",
       "    </tr>\n",
       "    <tr>\n",
       "      <th>2014-04-14 23:40:00</th>\n",
       "      <td>21.002014</td>\n",
       "    </tr>\n",
       "    <tr>\n",
       "      <th>2014-04-14 23:45:00</th>\n",
       "      <td>20.566713</td>\n",
       "    </tr>\n",
       "    <tr>\n",
       "      <th>2014-04-14 23:50:00</th>\n",
       "      <td>18.254193</td>\n",
       "    </tr>\n",
       "    <tr>\n",
       "      <th>2014-04-14 23:55:00</th>\n",
       "      <td>21.863147</td>\n",
       "    </tr>\n",
       "  </tbody>\n",
       "</table>\n",
       "<p>4032 rows × 1 columns</p>\n",
       "</div>"
      ],
      "text/plain": [
       "                         value\n",
       "timestamp                     \n",
       "2014-04-01 00:00:00  19.761252\n",
       "2014-04-01 00:05:00  20.500833\n",
       "2014-04-01 00:10:00  19.961641\n",
       "2014-04-01 00:15:00  21.490266\n",
       "2014-04-01 00:20:00  20.187739\n",
       "...                        ...\n",
       "2014-04-14 23:35:00  18.074649\n",
       "2014-04-14 23:40:00  21.002014\n",
       "2014-04-14 23:45:00  20.566713\n",
       "2014-04-14 23:50:00  18.254193\n",
       "2014-04-14 23:55:00  21.863147\n",
       "\n",
       "[4032 rows x 1 columns]"
      ]
     },
     "execution_count": 3,
     "metadata": {},
     "output_type": "execute_result"
    }
   ],
   "source": [
    "cpu_load_df"
   ]
  },
  {
   "cell_type": "code",
   "execution_count": 4,
   "metadata": {
    "ExecuteTime": {
     "end_time": "2022-06-18T00:51:43.277479Z",
     "start_time": "2022-06-18T00:51:43.053078Z"
    },
    "colab": {
     "base_uri": "https://localhost:8080/",
     "height": 321
    },
    "executionInfo": {
     "elapsed": 892,
     "status": "ok",
     "timestamp": 1654236389028,
     "user": {
      "displayName": "James Lee",
      "userId": "17665317456088603930"
     },
     "user_tz": -540
    },
    "id": "3sExRae2F9bj",
    "outputId": "26d342de-899b-4fd2-d8e0-92e2ecf36d37"
   },
   "outputs": [
    {
     "data": {
      "text/plain": [
       "<AxesSubplot:xlabel='timestamp'>"
      ]
     },
     "execution_count": 4,
     "metadata": {},
     "output_type": "execute_result"
    },
    {
     "data": {
      "image/png": "[encoded data removed]",
      "text/plain": [
       "<Figure size 432x288 with 1 Axes>"
      ]
     },
     "metadata": {
      "needs_background": "light"
     },
     "output_type": "display_data"
    }
   ],
   "source": [
    "cpu_load_df.plot()"
   ]
  },
  {
   "cell_type": "markdown",
   "metadata": {
    "id": "Ce8Bo5wzaa0W"
   },
   "source": [
    "## 1. 정상 데이터를 구할 수 있는 경우\n",
    "  1.1 말그대로 정상 샘플\n",
    "  \n",
    "  1.2 이상치가 포함된 데이터에서 알고 있던 이상치 (Known Anomaly)를 제거"
   ]
  },
  {
   "cell_type": "code",
   "execution_count": 5,
   "metadata": {
    "ExecuteTime": {
     "end_time": "2022-06-18T00:51:46.118400Z",
     "start_time": "2022-06-18T00:51:46.083493Z"
    },
    "executionInfo": {
     "elapsed": 678,
     "status": "ok",
     "timestamp": 1654236512589,
     "user": {
      "displayName": "James Lee",
      "userId": "17665317456088603930"
     },
     "user_tz": -540
    },
    "id": "A1pXHiqJGdEO"
   },
   "outputs": [],
   "source": [
    "cpu_load_normal_df = pd.read_csv(\n",
    "    \"C:\\\\Jupyter_Workspace\\\\spoons\\\\5_week\\\\cpu_load_normal.csv\",\n",
    "    parse_dates=True,\n",
    "    index_col='timestamp'\n",
    "    )"
   ]
  },
  {
   "cell_type": "code",
   "execution_count": 6,
   "metadata": {
    "ExecuteTime": {
     "end_time": "2022-06-18T00:51:49.053210Z",
     "start_time": "2022-06-18T00:51:48.878677Z"
    },
    "colab": {
     "base_uri": "https://localhost:8080/",
     "height": 321
    },
    "executionInfo": {
     "elapsed": 896,
     "status": "ok",
     "timestamp": 1654236515513,
     "user": {
      "displayName": "James Lee",
      "userId": "17665317456088603930"
     },
     "user_tz": -540
    },
    "id": "wCdipNLgGkZ6",
    "outputId": "bf3e488c-b813-483a-906c-9506e0aa0f6c"
   },
   "outputs": [
    {
     "data": {
      "text/plain": [
       "<AxesSubplot:xlabel='timestamp'>"
      ]
     },
     "execution_count": 6,
     "metadata": {},
     "output_type": "execute_result"
    },
    {
     "data": {
      "image/png": "[encoded data removed]",
      "text/plain": [
       "<Figure size 432x288 with 1 Axes>"
      ]
     },
     "metadata": {
      "needs_background": "light"
     },
     "output_type": "display_data"
    }
   ],
   "source": [
    "cpu_load_normal_df.plot()"
   ]
  },
  {
   "cell_type": "markdown",
   "metadata": {
    "id": "xxZZ2Bhia40R"
   },
   "source": [
    "## 데이터 전처리"
   ]
  },
  {
   "cell_type": "code",
   "execution_count": 7,
   "metadata": {
    "ExecuteTime": {
     "end_time": "2022-06-18T00:51:51.644283Z",
     "start_time": "2022-06-18T00:51:51.636316Z"
    },
    "executionInfo": {
     "elapsed": 280,
     "status": "ok",
     "timestamp": 1654236642191,
     "user": {
      "displayName": "James Lee",
      "userId": "17665317456088603930"
     },
     "user_tz": -540
    },
    "id": "skuCwAjsdRGA"
   },
   "outputs": [],
   "source": [
    "training_mean = cpu_load_normal_df.mean()\n",
    "training_std = cpu_load_normal_df.std()\n",
    "df_training_value = (cpu_load_normal_df - training_mean) / training_std # z-score 정규화"
   ]
  },
  {
   "cell_type": "markdown",
   "metadata": {
    "id": "ovKW8kaSa9jm"
   },
   "source": [
    "## Blocked CV 형식으로 데이터 분할"
   ]
  },
  {
   "cell_type": "code",
   "execution_count": 8,
   "metadata": {
    "ExecuteTime": {
     "end_time": "2022-06-18T00:51:54.250048Z",
     "start_time": "2022-06-18T00:51:54.232095Z"
    },
    "colab": {
     "base_uri": "https://localhost:8080/"
    },
    "executionInfo": {
     "elapsed": 284,
     "status": "ok",
     "timestamp": 1654236735369,
     "user": {
      "displayName": "James Lee",
      "userId": "17665317456088603930"
     },
     "user_tz": -540
    },
    "id": "uNc8CXaadZc5",
    "outputId": "46393891-ad4e-409d-d634-a7c166f4f3d1"
   },
   "outputs": [
    {
     "name": "stdout",
     "output_type": "stream",
     "text": [
      "Training input shape:  (3744, 288, 1)\n"
     ]
    }
   ],
   "source": [
    "# Blocked Crossvalidation\n",
    "TIME_STEPS = 288 # 1440분 => 하루\n",
    "\n",
    "# Generated training sequences for use in the model.\n",
    "def create_sequences(values, time_steps=TIME_STEPS):\n",
    "    output = []\n",
    "    for i in range(len(values) - time_steps):\n",
    "        output.append(values[i : (i + time_steps)])\n",
    "    return np.stack(output)\n",
    "\n",
    "# AutoEncoder, x=y\n",
    "x_train = create_sequences(df_training_value.values)\n",
    "x_train = x_train.reshape(x_train.shape[0], x_train.shape[1], 1)\n",
    "print(\"Training input shape: \", x_train.shape)\n",
    "# 3744 => 시퀀스\n",
    "# 288 => \n",
    "# 1 => "
   ]
  },
  {
   "cell_type": "code",
   "execution_count": 9,
   "metadata": {
    "ExecuteTime": {
     "end_time": "2022-06-18T00:51:57.116577Z",
     "start_time": "2022-06-18T00:51:57.102614Z"
    },
    "colab": {
     "base_uri": "https://localhost:8080/"
    },
    "executionInfo": {
     "elapsed": 342,
     "status": "ok",
     "timestamp": 1648869010708,
     "user": {
      "displayName": "James Lee",
      "userId": "17665317456088603930"
     },
     "user_tz": -540
    },
    "id": "pGMUokfsHhyu",
    "outputId": "ea1e4bc9-41d4-45bb-b9ed-e1e764becd5c"
   },
   "outputs": [
    {
     "data": {
      "text/plain": [
       "(4032, 1)"
      ]
     },
     "execution_count": 9,
     "metadata": {},
     "output_type": "execute_result"
    }
   ],
   "source": [
    "df_training_value.shape"
   ]
  },
  {
   "cell_type": "code",
   "execution_count": 10,
   "metadata": {
    "ExecuteTime": {
     "end_time": "2022-06-18T00:51:59.337154Z",
     "start_time": "2022-06-18T00:51:59.320204Z"
    },
    "colab": {
     "base_uri": "https://localhost:8080/"
    },
    "executionInfo": {
     "elapsed": 3,
     "status": "ok",
     "timestamp": 1648869010997,
     "user": {
      "displayName": "James Lee",
      "userId": "17665317456088603930"
     },
     "user_tz": -540
    },
    "id": "W8C68FohHeaL",
    "outputId": "0483b6f5-9801-49e3-b4a3-3bac412f3f37"
   },
   "outputs": [
    {
     "data": {
      "text/plain": [
       "(3744, 288, 1)"
      ]
     },
     "execution_count": 10,
     "metadata": {},
     "output_type": "execute_result"
    }
   ],
   "source": [
    "x_train.shape"
   ]
  },
  {
   "cell_type": "code",
   "execution_count": 11,
   "metadata": {
    "ExecuteTime": {
     "end_time": "2022-06-18T00:52:04.763992Z",
     "start_time": "2022-06-18T00:52:01.348558Z"
    },
    "colab": {
     "base_uri": "https://localhost:8080/"
    },
    "executionInfo": {
     "elapsed": 730,
     "status": "ok",
     "timestamp": 1654237215491,
     "user": {
      "displayName": "James Lee",
      "userId": "17665317456088603930"
     },
     "user_tz": -540
    },
    "id": "Q9XeolCidwyV",
    "outputId": "3fee4ee2-13ba-4194-f29f-6c53385d731f"
   },
   "outputs": [
    {
     "name": "stdout",
     "output_type": "stream",
     "text": [
      "Model: \"sequential\"\n",
      "_________________________________________________________________\n",
      " Layer (type)                Output Shape              Param #   \n",
      "=================================================================\n",
      " conv1d (Conv1D)             (None, 144, 32)           256       \n",
      "                                                                 \n",
      " dropout (Dropout)           (None, 144, 32)           0         \n",
      "                                                                 \n",
      " conv1d_1 (Conv1D)           (None, 72, 16)            3600      \n",
      "                                                                 \n",
      " conv1d_2 (Conv1D)           (None, 36, 8)             904       \n",
      "                                                                 \n",
      " conv1d_3 (Conv1D)           (None, 18, 4)             228       \n",
      "                                                                 \n",
      " conv1d_transpose (Conv1DTra  (None, 36, 8)            232       \n",
      " nspose)                                                         \n",
      "                                                                 \n",
      " conv1d_transpose_1 (Conv1DT  (None, 72, 16)           912       \n",
      " ranspose)                                                       \n",
      "                                                                 \n",
      " dropout_1 (Dropout)         (None, 72, 16)            0         \n",
      "                                                                 \n",
      " conv1d_transpose_2 (Conv1DT  (None, 144, 32)          3616      \n",
      " ranspose)                                                       \n",
      "                                                                 \n",
      " conv1d_transpose_3 (Conv1DT  (None, 288, 32)          7200      \n",
      " ranspose)                                                       \n",
      "                                                                 \n",
      " conv1d_transpose_4 (Conv1DT  (None, 288, 1)           225       \n",
      " ranspose)                                                       \n",
      "                                                                 \n",
      "=================================================================\n",
      "Total params: 17,173\n",
      "Trainable params: 17,173\n",
      "Non-trainable params: 0\n",
      "_________________________________________________________________\n"
     ]
    }
   ],
   "source": [
    "# CNN 기반 모델\n",
    "model = keras.Sequential(\n",
    "    [                         # 288,                1\n",
    "        layers.Input(shape=(x_train.shape[1], x_train.shape[2])),\n",
    "        # 요약한 정보를 32차원으로 바꾸고, 7개의 window를 보고, 2개 중에서 pooling을 하겠다.\n",
    "        # strides => pooling 하겠다.\n",
    "        # \n",
    "        layers.Conv1D(\n",
    "            filters=32, kernel_size=7, padding=\"same\", strides=2, activation=\"relu\" # 144, 32\n",
    "        ),\n",
    "        layers.Dropout(rate=0.2),\n",
    "        # 요약한 정보를 16차원으로 바꾸고, 7개의 window를 보고, 2개 중에서 pooling을 하겠다\n",
    "        layers.Conv1D(\n",
    "            filters=16, kernel_size=7, padding=\"same\", strides=2, activation=\"relu\" # 72, 16\n",
    "        ),\n",
    "        layers.Conv1D(\n",
    "            filters=8, kernel_size=7, padding=\"same\", strides=2, activation=\"relu\" # 36, 8\n",
    "        ),\n",
    "        layers.Conv1D(\n",
    "              filters=4, kernel_size=7, padding=\"same\", strides=2, activation=\"relu\" # 18, 4 <= z vector / Encoder 끝. # 입력\n",
    "          ),\n",
    "        # Decoder 시작\n",
    "        # Conv1DTranspose =>  컨폴루션을 복원 시키는 것\n",
    "        layers.Conv1DTranspose(\n",
    "            filters=8, kernel_size=7, padding=\"same\", strides=2, activation=\"relu\" # 36, 8\n",
    "        ),\n",
    "        layers.Conv1DTranspose(\n",
    "            filters=16, kernel_size=7, padding=\"same\", strides=2, activation=\"relu\" # 72, 16\n",
    "        ),\n",
    "        layers.Dropout(rate=0.2),\n",
    "        # 32차원으로 7개의 윈도우를 봐서, stride=2이므로, 시계열이 2배로 확장.\n",
    "        layers.Conv1DTranspose(\n",
    "            filters=32, kernel_size=7, padding=\"same\", strides=2, activation=\"relu\" # 144, 32\n",
    "        ),\n",
    "          layers.Conv1DTranspose(\n",
    "            filters=32, kernel_size=7, padding=\"same\", strides=2, activation=\"relu\" # 288, 32\n",
    "        ),\n",
    "        layers.Conv1DTranspose(filters=1, kernel_size=7, padding=\"same\"), # 288, 1, 원본 시계열.\n",
    "    ]\n",
    ")\n",
    "model.compile(optimizer=keras.optimizers.Adam(learning_rate=0.001), loss=\"mse\")\n",
    "model.summary()"
   ]
  },
  {
   "cell_type": "code",
   "execution_count": 12,
   "metadata": {
    "ExecuteTime": {
     "end_time": "2022-06-18T00:52:23.668087Z",
     "start_time": "2022-06-18T00:52:07.832789Z"
    },
    "colab": {
     "base_uri": "https://localhost:8080/"
    },
    "executionInfo": {
     "elapsed": 138847,
     "status": "ok",
     "timestamp": 1654237389931,
     "user": {
      "displayName": "James Lee",
      "userId": "17665317456088603930"
     },
     "user_tz": -540
    },
    "id": "XtXEI4dteXdT",
    "outputId": "4e23e342-71dd-4585-f13a-162510370f64"
   },
   "outputs": [
    {
     "name": "stdout",
     "output_type": "stream",
     "text": [
      "Epoch 1/50\n",
      "30/30 [==============================] - 6s 9ms/step - loss: 0.7835\n",
      "Epoch 2/50\n",
      "30/30 [==============================] - 0s 6ms/step - loss: 0.1889\n",
      "Epoch 3/50\n",
      "30/30 [==============================] - 0s 6ms/step - loss: 0.0854\n",
      "Epoch 4/50\n",
      "30/30 [==============================] - 0s 6ms/step - loss: 0.0684\n",
      "Epoch 5/50\n",
      "30/30 [==============================] - 0s 7ms/step - loss: 0.0586\n",
      "Epoch 6/50\n",
      "30/30 [==============================] - 0s 7ms/step - loss: 0.0514\n",
      "Epoch 7/50\n",
      "30/30 [==============================] - 0s 7ms/step - loss: 0.0456\n",
      "Epoch 8/50\n",
      "30/30 [==============================] - 0s 6ms/step - loss: 0.0405\n",
      "Epoch 9/50\n",
      "30/30 [==============================] - 0s 7ms/step - loss: 0.0365\n",
      "Epoch 10/50\n",
      "30/30 [==============================] - 0s 6ms/step - loss: 0.0337\n",
      "Epoch 11/50\n",
      "30/30 [==============================] - 0s 6ms/step - loss: 0.0317\n",
      "Epoch 12/50\n",
      "30/30 [==============================] - 0s 6ms/step - loss: 0.0303\n",
      "Epoch 13/50\n",
      "30/30 [==============================] - 0s 6ms/step - loss: 0.0287\n",
      "Epoch 14/50\n",
      "30/30 [==============================] - 0s 6ms/step - loss: 0.0278\n",
      "Epoch 15/50\n",
      "30/30 [==============================] - 0s 6ms/step - loss: 0.0268\n",
      "Epoch 16/50\n",
      "30/30 [==============================] - 0s 6ms/step - loss: 0.0259\n",
      "Epoch 17/50\n",
      "30/30 [==============================] - 0s 6ms/step - loss: 0.0252\n",
      "Epoch 18/50\n",
      "30/30 [==============================] - 0s 7ms/step - loss: 0.0246\n",
      "Epoch 19/50\n",
      "30/30 [==============================] - 0s 7ms/step - loss: 0.0239\n",
      "Epoch 20/50\n",
      "30/30 [==============================] - 0s 7ms/step - loss: 0.0235\n",
      "Epoch 21/50\n",
      "30/30 [==============================] - 0s 6ms/step - loss: 0.0230\n",
      "Epoch 22/50\n",
      "30/30 [==============================] - 0s 8ms/step - loss: 0.0226\n",
      "Epoch 23/50\n",
      "30/30 [==============================] - 0s 6ms/step - loss: 0.0221\n",
      "Epoch 24/50\n",
      "30/30 [==============================] - 0s 6ms/step - loss: 0.0219\n",
      "Epoch 25/50\n",
      "30/30 [==============================] - 0s 6ms/step - loss: 0.0214\n",
      "Epoch 26/50\n",
      "30/30 [==============================] - 0s 7ms/step - loss: 0.0211\n",
      "Epoch 27/50\n",
      "30/30 [==============================] - 0s 6ms/step - loss: 0.0208\n",
      "Epoch 28/50\n",
      "30/30 [==============================] - 0s 6ms/step - loss: 0.0205\n",
      "Epoch 29/50\n",
      "30/30 [==============================] - 0s 7ms/step - loss: 0.0204\n",
      "Epoch 30/50\n",
      "30/30 [==============================] - 0s 6ms/step - loss: 0.0201\n",
      "Epoch 31/50\n",
      "30/30 [==============================] - 0s 6ms/step - loss: 0.0198\n",
      "Epoch 32/50\n",
      "30/30 [==============================] - 0s 7ms/step - loss: 0.0196\n",
      "Epoch 33/50\n",
      "30/30 [==============================] - 0s 6ms/step - loss: 0.0194\n",
      "Epoch 34/50\n",
      "30/30 [==============================] - 0s 7ms/step - loss: 0.0192\n",
      "Epoch 35/50\n",
      "30/30 [==============================] - 0s 6ms/step - loss: 0.0191\n",
      "Epoch 36/50\n",
      "30/30 [==============================] - 0s 6ms/step - loss: 0.0188\n",
      "Epoch 37/50\n",
      "30/30 [==============================] - 0s 6ms/step - loss: 0.0187\n",
      "Epoch 38/50\n",
      "30/30 [==============================] - 0s 7ms/step - loss: 0.0186\n",
      "Epoch 39/50\n",
      "30/30 [==============================] - 0s 8ms/step - loss: 0.0186\n",
      "Epoch 40/50\n",
      "30/30 [==============================] - 0s 7ms/step - loss: 0.0182\n",
      "Epoch 41/50\n",
      "30/30 [==============================] - 0s 7ms/step - loss: 0.0182\n",
      "Epoch 42/50\n",
      "30/30 [==============================] - 0s 7ms/step - loss: 0.0180\n",
      "Epoch 43/50\n",
      "30/30 [==============================] - 0s 6ms/step - loss: 0.0178\n",
      "Epoch 44/50\n",
      "30/30 [==============================] - 0s 6ms/step - loss: 0.0178\n",
      "Epoch 45/50\n",
      "30/30 [==============================] - 0s 6ms/step - loss: 0.0176\n",
      "Epoch 46/50\n",
      "30/30 [==============================] - 0s 7ms/step - loss: 0.0177\n",
      "Epoch 47/50\n",
      "30/30 [==============================] - 0s 6ms/step - loss: 0.0175\n",
      "Epoch 48/50\n",
      "30/30 [==============================] - 0s 7ms/step - loss: 0.0173\n",
      "Epoch 49/50\n",
      "30/30 [==============================] - 0s 7ms/step - loss: 0.0172\n",
      "Epoch 50/50\n",
      "30/30 [==============================] - 0s 6ms/step - loss: 0.0172\n"
     ]
    }
   ],
   "source": [
    "history = model.fit(\n",
    "    x_train,\n",
    "    x_train,\n",
    "    epochs=50,\n",
    "    batch_size=128\n",
    ")"
   ]
  },
  {
   "cell_type": "code",
   "execution_count": 13,
   "metadata": {
    "ExecuteTime": {
     "end_time": "2022-06-18T00:52:27.629402Z",
     "start_time": "2022-06-18T00:52:27.106801Z"
    },
    "executionInfo": {
     "elapsed": 1711,
     "status": "ok",
     "timestamp": 1654237404660,
     "user": {
      "displayName": "James Lee",
      "userId": "17665317456088603930"
     },
     "user_tz": -540
    },
    "id": "l4wa9KHeKc7z"
   },
   "outputs": [],
   "source": [
    "x_train_pred = model.predict(x_train)"
   ]
  },
  {
   "cell_type": "code",
   "execution_count": 14,
   "metadata": {
    "ExecuteTime": {
     "end_time": "2022-06-18T00:52:29.310675Z",
     "start_time": "2022-06-18T00:52:29.291727Z"
    },
    "colab": {
     "base_uri": "https://localhost:8080/"
    },
    "executionInfo": {
     "elapsed": 4,
     "status": "ok",
     "timestamp": 1648869467730,
     "user": {
      "displayName": "James Lee",
      "userId": "17665317456088603930"
     },
     "user_tz": -540
    },
    "id": "H6E4vDqGLJog",
    "outputId": "8cb64397-1894-44a5-beb8-08efe4b86207"
   },
   "outputs": [
    {
     "data": {
      "text/plain": [
       "(3744, 288, 1)"
      ]
     },
     "execution_count": 14,
     "metadata": {},
     "output_type": "execute_result"
    }
   ],
   "source": [
    "x_train_pred.shape"
   ]
  },
  {
   "cell_type": "markdown",
   "metadata": {
    "id": "MIIL8oQ7dlCO"
   },
   "source": [
    "## 학습 데이터를 그대로 복원  => 복원된 데이터와 학습 데이터를 비교"
   ]
  },
  {
   "cell_type": "markdown",
   "metadata": {
    "id": "6oTr2DUD9wSl"
   },
   "source": [
    "## 이상치 포함"
   ]
  },
  {
   "cell_type": "code",
   "execution_count": 15,
   "metadata": {
    "ExecuteTime": {
     "end_time": "2022-06-18T00:52:32.536054Z",
     "start_time": "2022-06-18T00:52:31.969568Z"
    },
    "colab": {
     "base_uri": "https://localhost:8080/",
     "height": 297
    },
    "executionInfo": {
     "elapsed": 1633,
     "status": "ok",
     "timestamp": 1654237553272,
     "user": {
      "displayName": "James Lee",
      "userId": "17665317456088603930"
     },
     "user_tz": -540
    },
    "id": "OzqNgRiverCF",
    "outputId": "f5321002-a83a-4328-e867-0e739a018989"
   },
   "outputs": [
    {
     "data": {
      "image/png": "[encoded data removed]",
      "text/plain": [
       "<Figure size 432x288 with 1 Axes>"
      ]
     },
     "metadata": {
      "needs_background": "light"
     },
     "output_type": "display_data"
    },
    {
     "name": "stdout",
     "output_type": "stream",
     "text": [
      "Reconstruction error threshold:  0.12784832764840987\n"
     ]
    }
   ],
   "source": [
    "x_train_pred = model.predict(x_train)\n",
    "                          # 예측값 각각에 대한 mean absoulte err\n",
    "train_mae_loss = np.mean(np.abs(x_train_pred - x_train), axis=1)\n",
    "\n",
    "plt.hist(train_mae_loss, bins=50)\n",
    "plt.xlabel(\"Train MAE loss\")\n",
    "plt.ylabel(\"No of samples\")\n",
    "plt.show()\n",
    "\n",
    "# Get reconstruction loss threshold.\n",
    "# threshold = np.max(train_mae_loss) * 1 # 학습 데이터의 최대 에러의 95% 수준보다 넘어가는건 이상치다.\n",
    "threshold = np.max(train_mae_loss) * 1.2 # 1.2를 곱한이유는 그냥 임계값을 1.2 곱해서 정하고 싶어서 이부분은 정하기 나름이다.\n",
    "print(\"Reconstruction error threshold: \", threshold)\n",
    "# Train MAE loss 그래프 분포가 정규 분포에 많이 벗어난다고 한다면 Train data로서 사용하기에는 이상 데이터가 너무 많이\n",
    "# 섞여 있기때문에 좋지 않다고 볼 수 있다."
   ]
  },
  {
   "cell_type": "markdown",
   "metadata": {
    "id": "RoY4QahB9szc"
   },
   "source": [
    "## 이상치 포함 X"
   ]
  },
  {
   "cell_type": "code",
   "execution_count": 16,
   "metadata": {
    "ExecuteTime": {
     "end_time": "2022-06-18T00:52:35.784370Z",
     "start_time": "2022-06-18T00:52:35.700594Z"
    },
    "colab": {
     "base_uri": "https://localhost:8080/",
     "height": 265
    },
    "executionInfo": {
     "elapsed": 359,
     "status": "ok",
     "timestamp": 1654237574923,
     "user": {
      "displayName": "James Lee",
      "userId": "17665317456088603930"
     },
     "user_tz": -540
    },
    "id": "TUVVYmYIf0ZJ",
    "outputId": "26071cc0-4066-41fe-ce85-3163505bc2b4"
   },
   "outputs": [
    {
     "data": {
      "image/png": "[encoded data removed]",
      "text/plain": [
       "<Figure size 432x288 with 1 Axes>"
      ]
     },
     "metadata": {
      "needs_background": "light"
     },
     "output_type": "display_data"
    }
   ],
   "source": [
    "# Checking how the first sequence is learnt\n",
    "plt.plot(x_train[0])\n",
    "plt.plot(x_train_pred[0])\n",
    "plt.show()"
   ]
  },
  {
   "cell_type": "code",
   "execution_count": 17,
   "metadata": {
    "ExecuteTime": {
     "end_time": "2022-06-18T00:52:42.246048Z",
     "start_time": "2022-06-18T00:52:42.234080Z"
    },
    "executionInfo": {
     "elapsed": 297,
     "status": "ok",
     "timestamp": 1654237624125,
     "user": {
      "displayName": "James Lee",
      "userId": "17665317456088603930"
     },
     "user_tz": -540
    },
    "id": "Jl1vBLeELte_"
   },
   "outputs": [],
   "source": [
    "df_test_value = (cpu_load_df - training_mean) / training_std"
   ]
  },
  {
   "cell_type": "code",
   "execution_count": 18,
   "metadata": {
    "ExecuteTime": {
     "end_time": "2022-06-18T00:52:44.961081Z",
     "start_time": "2022-06-18T00:52:44.167205Z"
    },
    "colab": {
     "base_uri": "https://localhost:8080/",
     "height": 1000
    },
    "executionInfo": {
     "elapsed": 1969,
     "status": "ok",
     "timestamp": 1654237637541,
     "user": {
      "displayName": "James Lee",
      "userId": "17665317456088603930"
     },
     "user_tz": -540
    },
    "id": "BU4Ll-vHf39Q",
    "outputId": "c60a8983-0b87-4482-aa6e-a033f6bdf7bb"
   },
   "outputs": [
    {
     "data": {
      "image/png": "[encoded data removed]",
      "text/plain": [
       "<Figure size 432x288 with 1 Axes>"
      ]
     },
     "metadata": {
      "needs_background": "light"
     },
     "output_type": "display_data"
    },
    {
     "name": "stdout",
     "output_type": "stream",
     "text": [
      "Test input shape:  (3744, 288, 1)\n"
     ]
    },
    {
     "data": {
      "image/png": "[encoded data removed]",
      "text/plain": [
       "<Figure size 432x288 with 1 Axes>"
      ]
     },
     "metadata": {
      "needs_background": "light"
     },
     "output_type": "display_data"
    },
    {
     "name": "stdout",
     "output_type": "stream",
     "text": [
      "Number of anomaly samples:  393\n",
      "Indices of anomaly samples:  (array([2702, 2703, 2704, 2705, 2706, 2707, 2708, 2709, 2710, 2711, 2712,\n",
      "       2713, 2714, 2715, 2716, 2717, 2718, 2719, 2720, 2721, 2722, 2723,\n",
      "       2724, 2725, 2726, 2727, 2728, 2729, 2730, 2731, 2732, 2733, 2734,\n",
      "       2735, 2736, 2737, 2738, 2739, 2740, 2741, 2742, 2743, 2744, 2745,\n",
      "       2746, 2747, 2748, 2749, 2750, 2751, 2752, 2753, 2754, 2755, 2756,\n",
      "       2757, 2758, 2759, 2760, 2761, 2762, 2763, 2764, 2765, 2766, 2767,\n",
      "       2768, 2769, 2770, 2771, 2772, 2773, 2774, 2775, 2776, 2777, 2778,\n",
      "       2779, 2780, 2781, 2782, 2783, 2784, 2785, 2786, 2787, 2788, 2789,\n",
      "       2790, 2791, 2792, 2793, 2794, 2795, 2796, 2797, 2798, 2799, 2800,\n",
      "       2801, 2802, 2803, 2804, 2805, 2806, 2807, 2808, 2809, 2810, 2811,\n",
      "       2812, 2813, 2814, 2815, 2816, 2817, 2818, 2819, 2820, 2821, 2822,\n",
      "       2823, 2824, 2825, 2826, 2827, 2828, 2829, 2830, 2831, 2832, 2833,\n",
      "       2834, 2835, 2836, 2837, 2838, 2839, 2840, 2841, 2842, 2843, 2844,\n",
      "       2845, 2846, 2847, 2848, 2849, 2850, 2851, 2852, 2853, 2854, 2855,\n",
      "       2856, 2857, 2858, 2859, 2860, 2861, 2862, 2863, 2864, 2865, 2866,\n",
      "       2867, 2868, 2869, 2870, 2871, 2872, 2873, 2874, 2875, 2876, 2877,\n",
      "       2878, 2879, 2880, 2881, 2882, 2883, 2884, 2885, 2886, 2887, 2888,\n",
      "       2889, 2890, 2891, 2892, 2893, 2894, 2895, 2896, 2897, 2898, 2899,\n",
      "       2900, 2901, 2902, 2903, 2904, 2905, 2906, 2907, 2908, 2909, 2910,\n",
      "       2911, 2912, 2913, 2914, 2915, 2916, 2917, 2918, 2919, 2920, 2921,\n",
      "       2922, 2923, 2924, 2925, 2926, 2927, 2928, 2929, 2930, 2931, 2932,\n",
      "       2933, 2934, 2935, 2936, 2937, 2938, 2939, 2940, 2941, 2942, 2943,\n",
      "       2944, 2945, 2946, 2947, 2948, 2949, 2950, 2951, 2952, 2953, 2954,\n",
      "       2955, 2956, 2957, 2958, 2959, 2960, 2961, 2962, 2963, 2964, 2965,\n",
      "       2966, 2967, 2968, 2969, 2970, 2971, 2972, 2973, 2974, 2975, 2976,\n",
      "       2977, 2978, 2979, 2980, 2981, 2982, 2983, 2984, 2985, 2986, 2987,\n",
      "       2988, 2989, 2990, 2991, 2992, 2993, 2994, 2995, 2996, 2997, 2998,\n",
      "       2999, 3000, 3001, 3002, 3003, 3004, 3005, 3006, 3007, 3008, 3009,\n",
      "       3010, 3011, 3012, 3013, 3014, 3015, 3016, 3017, 3018, 3019, 3020,\n",
      "       3021, 3022, 3023, 3024, 3025, 3026, 3027, 3028, 3029, 3030, 3031,\n",
      "       3032, 3033, 3034, 3035, 3036, 3037, 3038, 3039, 3040, 3041, 3042,\n",
      "       3043, 3044, 3045, 3046, 3047, 3048, 3049, 3050, 3051, 3052, 3053,\n",
      "       3054, 3055, 3056, 3057, 3058, 3059, 3060, 3061, 3062, 3063, 3064,\n",
      "       3065, 3066, 3067, 3068, 3069, 3070, 3071, 3072, 3073, 3074, 3075,\n",
      "       3076, 3077, 3078, 3079, 3080, 3081, 3082, 3083, 3084, 3085, 3086,\n",
      "       3087, 3088, 3089, 3090, 3091, 3092, 3093, 3094], dtype=int64),)\n"
     ]
    }
   ],
   "source": [
    "df_test_value = (cpu_load_df - training_mean) / training_std\n",
    "\n",
    "fig, ax = plt.subplots()\n",
    "df_test_value.plot(legend=False, ax=ax)\n",
    "plt.show()\n",
    "\n",
    "# Create sequences from test values.\n",
    "x_test = create_sequences(df_test_value.values)\n",
    "x_test = x_test.reshape(x_test.shape[0], x_test.shape[1], 1)\n",
    "print(\"Test input shape: \", x_test.shape)\n",
    "\n",
    "# Get test MAE loss.\n",
    "x_test_pred = model.predict(x_test)\n",
    "test_mae_loss = np.mean(np.abs(x_test_pred - x_test), axis=1)\n",
    "test_mae_loss = test_mae_loss.reshape((-1))\n",
    "\n",
    "plt.hist(test_mae_loss, bins=50)\n",
    "plt.xlabel(\"test MAE loss\")\n",
    "plt.ylabel(\"No of samples\")\n",
    "plt.show()\n",
    "\n",
    "# Detect all the samples which are anomalies.\n",
    "anomalies = test_mae_loss > threshold # 학습 데이터의 최대 로스보다 큰 로스 값 index\n",
    "print(\"Number of anomaly samples: \", np.sum(anomalies))\n",
    "print(\"Indices of anomaly samples: \", np.where(anomalies))"
   ]
  },
  {
   "cell_type": "code",
   "execution_count": 19,
   "metadata": {
    "ExecuteTime": {
     "end_time": "2022-06-18T00:52:51.453024Z",
     "start_time": "2022-06-18T00:52:51.422109Z"
    },
    "executionInfo": {
     "elapsed": 287,
     "status": "ok",
     "timestamp": 1654237681785,
     "user": {
      "displayName": "James Lee",
      "userId": "17665317456088603930"
     },
     "user_tz": -540
    },
    "id": "wKvDWFN_mXM-"
   },
   "outputs": [],
   "source": [
    "# data i is an anomaly if samples [(i - timesteps + 1) to (i)] are anomalies\n",
    "anomalous_data_indices = []\n",
    "for data_idx in range(TIME_STEPS - 1, len(df_test_value) - TIME_STEPS + 1):\n",
    "    if np.all(anomalies[data_idx - TIME_STEPS + 1 : data_idx]):\n",
    "        anomalous_data_indices.append(data_idx)"
   ]
  },
  {
   "cell_type": "code",
   "execution_count": 20,
   "metadata": {
    "ExecuteTime": {
     "end_time": "2022-06-18T00:52:53.385858Z",
     "start_time": "2022-06-18T00:52:53.225288Z"
    },
    "colab": {
     "base_uri": "https://localhost:8080/",
     "height": 303
    },
    "executionInfo": {
     "elapsed": 463,
     "status": "ok",
     "timestamp": 1654237684141,
     "user": {
      "displayName": "James Lee",
      "userId": "17665317456088603930"
     },
     "user_tz": -540
    },
    "id": "YKaTUinxmco3",
    "outputId": "527786a6-2ea6-46c0-da11-8656adf7bf9a"
   },
   "outputs": [
    {
     "data": {
      "image/png": "[encoded data removed]",
      "text/plain": [
       "<Figure size 432x288 with 1 Axes>"
      ]
     },
     "metadata": {
      "needs_background": "light"
     },
     "output_type": "display_data"
    }
   ],
   "source": [
    "df_subset = cpu_load_df.iloc[anomalous_data_indices]\n",
    "fig, ax = plt.subplots()\n",
    "cpu_load_df.plot(legend=False, ax=ax)\n",
    "df_subset.plot(legend=False, ax=ax, color=\"r\")\n",
    "plt.show()"
   ]
  },
  {
   "cell_type": "code",
   "execution_count": 22,
   "metadata": {
    "ExecuteTime": {
     "end_time": "2022-06-18T00:55:13.783885Z",
     "start_time": "2022-06-18T00:55:13.687143Z"
    },
    "id": "s0JHU0CTmeFY"
   },
   "outputs": [
    {
     "data": {
      "image/png": "[encoded data removed]",
      "text/plain": [
       "<Figure size 432x288 with 1 Axes>"
      ]
     },
     "metadata": {
      "needs_background": "light"
     },
     "output_type": "display_data"
    }
   ],
   "source": [
    "plt.plot(x_test[100])\n",
    "plt.plot(x_test_pred[100])\n",
    "plt.show()"
   ]
  },
  {
   "cell_type": "code",
   "execution_count": 27,
   "metadata": {
    "ExecuteTime": {
     "end_time": "2022-06-18T00:57:54.008102Z",
     "start_time": "2022-06-18T00:57:53.913355Z"
    }
   },
   "outputs": [
    {
     "data": {
      "image/png": "[encoded data removed]",
      "text/plain": [
       "<Figure size 432x288 with 1 Axes>"
      ]
     },
     "metadata": {
      "needs_background": "light"
     },
     "output_type": "display_data"
    }
   ],
   "source": [
    "plt.plot(x_test[2750])\n",
    "plt.plot(x_test_pred[2750])\n",
    "plt.show()"
   ]
  },
  {
   "cell_type": "code",
   "execution_count": 28,
   "metadata": {
    "ExecuteTime": {
     "end_time": "2022-06-18T00:58:24.982198Z",
     "start_time": "2022-06-18T00:58:24.899419Z"
    }
   },
   "outputs": [
    {
     "data": {
      "image/png": "[encoded data removed]",
      "text/plain": [
       "<Figure size 432x288 with 1 Axes>"
      ]
     },
     "metadata": {
      "needs_background": "light"
     },
     "output_type": "display_data"
    }
   ],
   "source": [
    "plt.plot(x_test[2780])\n",
    "plt.plot(x_test_pred[2780])\n",
    "plt.show()"
   ]
  },
  {
   "cell_type": "code",
   "execution_count": 29,
   "metadata": {
    "ExecuteTime": {
     "end_time": "2022-06-18T00:59:22.762420Z",
     "start_time": "2022-06-18T00:59:22.670839Z"
    }
   },
   "outputs": [
    {
     "data": {
      "image/png": "[encoded data removed]",
      "text/plain": [
       "<Figure size 432x288 with 1 Axes>"
      ]
     },
     "metadata": {
      "needs_background": "light"
     },
     "output_type": "display_data"
    }
   ],
   "source": [
    "plt.plot(x_test[2800])\n",
    "plt.plot(x_test_pred[2800])\n",
    "plt.show()"
   ]
  },
  {
   "cell_type": "code",
   "execution_count": 23,
   "metadata": {
    "ExecuteTime": {
     "end_time": "2022-06-18T00:56:19.215104Z",
     "start_time": "2022-06-18T00:56:19.127357Z"
    },
    "id": "PvVQlpxRF7VF"
   },
   "outputs": [
    {
     "data": {
      "image/png": "[encoded data removed]",
      "text/plain": [
       "<Figure size 432x288 with 1 Axes>"
      ]
     },
     "metadata": {
      "needs_background": "light"
     },
     "output_type": "display_data"
    }
   ],
   "source": [
    "plt.plot(x_test[2885])\n",
    "plt.plot(x_test_pred[2885])\n",
    "plt.show()"
   ]
  },
  {
   "cell_type": "code",
   "execution_count": null,
   "metadata": {
    "id": "UNwrll2HKtxF"
   },
   "outputs": [],
   "source": []
  }
 ],
 "metadata": {
  "colab": {
   "collapsed_sections": [],
   "name": "Auto-Encoder.ipynb",
   "provenance": []
  },
  "hide_input": false,
  "kernelspec": {
   "display_name": "Python 3 (ipykernel)",
   "language": "python",
   "name": "python3"
  },
  "language_info": {
   "codemirror_mode": {
    "name": "ipython",
    "version": 3
   },
   "file_extension": ".py",
   "mimetype": "text/x-python",
   "name": "python",
   "nbconvert_exporter": "python",
   "pygments_lexer": "ipython3",
   "version": "3.8.13"
  },
  "toc": {
   "base_numbering": 1,
   "nav_menu": {},
   "number_sections": true,
   "sideBar": true,
   "skip_h1_title": false,
   "title_cell": "Table of Contents",
   "title_sidebar": "Contents",
   "toc_cell": false,
   "toc_position": {},
   "toc_section_display": true,
   "toc_window_display": false
  },
  "varInspector": {
   "cols": {
    "lenName": 16,
    "lenType": 16,
    "lenVar": 40
   },
   "kernels_config": {
    "python": {
     "delete_cmd_postfix": "",
     "delete_cmd_prefix": "del ",
     "library": "var_list.py",
     "varRefreshCmd": "print(var_dic_list())"
    },
    "r": {
     "delete_cmd_postfix": ") ",
     "delete_cmd_prefix": "rm(",
     "library": "var_list.r",
     "varRefreshCmd": "cat(var_dic_list()) "
    }
   },
   "types_to_exclude": [
    "module",
    "function",
    "builtin_function_or_method",
    "instance",
    "_Feature"
   ],
   "window_display": false
  }
 },
 "nbformat": 4,
 "nbformat_minor": 1
}
